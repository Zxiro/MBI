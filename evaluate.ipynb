{
 "cells": [
  {
   "cell_type": "code",
   "execution_count": null,
   "metadata": {
    "scrolled": true
   },
   "outputs": [],
   "source": [
    "from sklearn.model_selection import train_test_split\n",
    "import numpy as np\n",
    "import pandas as pd\n",
    "from keras.models import Sequential\n",
    "from keras.layers import Dense,LSTM,Dropout\n",
    "from keras.layers.normalization import BatchNormalization\n",
    "from keras.optimizers import Adam\n",
    "from keras import optimizers\n",
    "from keras.callbacks import EarlyStopping, ModelCheckpoint\n",
    "from keras.callbacks import TensorBoard\n",
    "from keras.models import load_model\n",
    "import matplotlib.pyplot as plt\n",
    "stock = input(\"enter stock number:\")\n",
    "x_test = np.load('./StockData/TrainingData/NormtestingX_stock'+stock+'.npy')\n",
    "y_test = np.load('./StockData/TrainingData/testingY_stock'+stock+'.npy')\n",
    "origin_x_test = np.load('./StockData/TrainingData/opentestingX_stock'+stock+'.npy')\n",
    "\n",
    "\n",
    "#x_train = np.where(np.isnan(x_train), 0, x_train)\n",
    "x_test = np.where(np.isnan(x_test), 0, x_test)\n",
    "#y_train = np.where(np.isnan(y_train), 0, y_train)\n",
    "#x_train =x_train.reshape(-1,5,x_train.shape[1])\n",
    "x_test =x_test.reshape(-1,5,x_test.shape[1])"
   ]
  },
  {
   "cell_type": "code",
   "execution_count": null,
   "metadata": {},
   "outputs": [],
   "source": [
    "model=load_model('./stockModel/stockmodel_'+stock+'.h5')"
   ]
  },
  {
   "cell_type": "code",
   "execution_count": null,
   "metadata": {
    "scrolled": true
   },
   "outputs": [],
   "source": [
    "predicted_stock_price = model.predict(x_test)\n",
    "#predicted_stock_price = sc.inverse_transform(predicted_stock_price)\n",
    "\n",
    "# Visualising the results\n",
    "plt.plot(y_test, color = 'red', label = 'Real Stock Price')\n",
    "plt.plot(predicted_stock_price, color = 'blue', label = 'Predicted Stock Price')\n",
    "plt.title('Stock Price Prediction')\n",
    "plt.xlabel('Time')\n",
    "plt.ylabel('Stock Price')\n",
    "plt.legend()\n",
    "plt.show()"
   ]
  },
  {
   "cell_type": "code",
   "execution_count": null,
   "metadata": {},
   "outputs": [],
   "source": [
    "'''\n",
    "利用預測的數字如果為正，依照預測的數字比例來進行購買股票以1000為基準乘以(1+預測數字)\n",
    "而realmoney則為利用y_test的值去判斷是否依照比例進行購買\n",
    "'''\n",
    "get_from_predict = 0   #預測所能獲得金額\n",
    "predict_cost = 0 #成本\n",
    "real_cost = 0\n",
    "get_from_real = 0   #真實獲得金額\n",
    "amount = 1000  #購買的數量\n",
    "predict = model.predict( x_test )\n",
    "\n",
    "for predict_money , real_money , open_money in zip( predict , y_test ,origin_x_test):\n",
    "    if predict_money > 0: \n",
    "        get_from_predict += int( amount ) * real_money\n",
    "        predict_cost += open_money * int( amount )\n",
    "    if real_money > 0 :\n",
    "        get_from_real += int( amount ) * real_money\n",
    "        real_cost += open_money*1000\n",
    "    #print(get_from_real)\n",
    "#get_from_predict = round( get_from_predict[0] , 2 )\n",
    "#get_from_real = round( get_from_real , 2 )\n",
    "print('predict money:' , get_from_predict)\n",
    "print('predict cost' , predict_cost)\n",
    "print('real money:' , get_from_real)\n",
    "money = round((( get_from_predict/predict_cost )*100) , 2)\n",
    "print(money , '%')\n",
    "money = round((( get_from_real/real_cost )*100) , 2)\n",
    "print(money , '%')"
   ]
  },
  {
   "cell_type": "code",
   "execution_count": null,
   "metadata": {},
   "outputs": [],
   "source": [
    "from evaluate import Evaluate"
   ]
  },
  {
   "cell_type": "code",
   "execution_count": null,
   "metadata": {
    "scrolled": true
   },
   "outputs": [],
   "source": [
    "evaluate = Evaluate('0050')\n",
    "model = 1\n",
    "evaluate.abc()\n"
   ]
  },
  {
   "cell_type": "code",
   "execution_count": null,
   "metadata": {},
   "outputs": [],
   "source": []
  },
  {
   "cell_type": "code",
   "execution_count": null,
   "metadata": {},
   "outputs": [],
   "source": []
  }
 ],
 "metadata": {
  "kernelspec": {
   "display_name": "mbi",
   "language": "python",
   "name": "mbi"
  },
  "language_info": {
   "codemirror_mode": {
    "name": "ipython",
    "version": 3
   },
   "file_extension": ".py",
   "mimetype": "text/x-python",
   "name": "python",
   "nbconvert_exporter": "python",
   "pygments_lexer": "ipython3",
   "version": "3.6.8"
  }
 },
 "nbformat": 4,
 "nbformat_minor": 2
}
