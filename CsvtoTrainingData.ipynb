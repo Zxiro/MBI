{
 "cells": [
  {
   "cell_type": "code",
   "execution_count": 65,
   "metadata": {},
   "outputs": [
    {
     "name": "stderr",
     "output_type": "stream",
     "text": [
      "/usr/local/lib/python3.6/dist-packages/ipykernel_launcher.py:61: SettingWithCopyWarning: \n",
      "A value is trying to be set on a copy of a slice from a DataFrame\n",
      "\n",
      "See the caveats in the documentation: http://pandas.pydata.org/pandas-docs/stable/user_guide/indexing.html#returning-a-view-versus-a-copy\n"
     ]
    },
    {
     "name": "stdout",
     "output_type": "stream",
     "text": [
      "\n",
      " [[[20.9, 20.0], [20.9, 21.0], [20.3, 21.0], [20.4, 20.3], [20.4, 20.5]], [[20.6, 20.5], [20.0, 20.7], [19.7, 20.0], [19.8, 19.8], [19.9, 19.9]], [[20.6, 20.4], [21.3, 21.1], [20.8, 21.4], [20.9, 21.0], [20.3, 21.4]], [[19.9, 20.4], [20.4, 19.9], [20.1, 20.3], [20.1, 20.0], [20.3, 20.0]], [[20.1, 20.6], [20.0, 20.4], [19.5, 20.2], [20.2, 19.6], [20.0, 20.2]], [[0.0, 18.6], [17.3, 17.3], [17.4, 17.7], [17.2, 17.4], [17.1, 17.4]], [[18.1, 18.1], [18.3, 18.2], [18.4, 18.6], [18.1, 18.4], [18.2, 18.1]], [[18.3, 18.4], [17.9, 18.4], [17.7, 17.9], [17.8, 17.8], [17.6, 17.8]], [[18.2, 17.8], [18.6, 18.5], [18.7, 18.8], [18.2, 18.7], [18.2, 18.2]], [[18.1, 18.3], [17.8, 18.2], [17.8, 17.8], [17.7, 17.9], [17.5, 17.8]]] Train_x.size:   10\n",
      "\n",
      " [0.3999999999999986, -0.6000000000000014, -0.09999999999999787, -0.09999999999999787, -0.6000000000000014, -1.5, 0.09999999999999787, -0.7999999999999972, 0.3999999999999986, -0.8000000000000007] Train_y.size:   10\n",
      "\n",
      " [[[49.17, 49.46], [49.4, 49.21], [49.53, 49.55], [49.96, 49.57], [49.95, 50.0]], [[49.56, 49.95], [49.4, 49.2], [49.53, 49.4], [49.79, 49.75], [50.55, 50.0]], [[51.95, 50.8], [52.8, 52.1], [52.7, 52.8], [53.1, 53.0], [52.5, 53.5]], [[51.85, 52.6], [51.95, 51.6], [51.25, 51.95], [51.35, 50.95], [50.4, 50.8]], [[49.6, 51.0], [49.0, 49.32], [49.07, 49.7], [50.7, 49.7], [51.0, 50.7]], [[0.0, 47.43], [46.3, 44.5], [46.91, 47.3], [46.75, 46.95], [46.78, 47.24]], [[49.1, 48.7], [49.3, 49.1], [48.99, 49.5], [48.68, 49.3], [48.91, 49.0]], [[49.95, 49.5], [49.92, 50.2], [49.87, 49.93], [50.1, 49.9], [49.77, 49.9]], [[50.9, 50.05], [50.8, 50.95], [51.4, 50.35], [50.4, 51.4], [51.15, 50.4]], [[50.9, 51.2], [50.9, 51.5], [51.2, 50.8], [50.5, 51.4], [50.75, 50.7]]] Train_x.size:   10\n",
      "\n",
      " [0.490000000000002, 0.5999999999999943, 1.7000000000000028, -2.200000000000003, 0.0, -0.6499999999999986, 0.20999999999999375, 0.2700000000000031, 1.1000000000000014, -0.45000000000000284] Train_y.size:   10\n"
     ]
    }
   ],
   "source": [
    "import json \n",
    "import csv\n",
    "import datetime#import datetime module convert data to datetime64(ns)\n",
    "import numpy as np\n",
    "import pandas as pd#import pandas module(Better than csv module!)\n",
    "import os\n",
    "import glob\n",
    "\n",
    "global train_x , train_y,train_c,TimeData,Type,Feature\n",
    "train_x=[]\n",
    "train_c=[]\n",
    "train_y=[]\n",
    "Features=np.array(['adj_close','close','high','low','open','volume'])#All the var for the model\n",
    "\n",
    "def GenerateTrainX(n,a,c,h,l,o,v):#n for numbers /a for adj_close /o for open /h for high /l for low /c for close /v for volume\n",
    "    fliter=np.array([bool(a),bool(c),bool(h),bool(l),bool(o),bool(v)])\n",
    "    Choice=Features[fliter]#type(Choice)=nparray\n",
    "    count=0\n",
    "    for i in TimeData:\n",
    "        if count<n:\n",
    "            #print(i[1])\n",
    "            IsWeekOrNot=int(i[1].size)/7\n",
    "            if IsWeekOrNot>=5:\n",
    "                train_x.append(i[1].loc[ : ,Choice].values.tolist())\n",
    "                count+=1\n",
    "            else:\n",
    "                continue\n",
    "        elif count>=n:\n",
    "            break\n",
    "    print(\"\\n\",train_x,\"Train_x.size:  \",len(train_x))\n",
    "\n",
    "def GenerateTrainY(n,t): #t for type of close 0 for close 1 for adj_close\n",
    "    count=0\n",
    "    if t==0:\n",
    "        Type='close'\n",
    "    elif t==1:\n",
    "        Type='adj_close'\n",
    "    for i in TimeData:\n",
    "        if count<n:\n",
    "            #print(i[1])\n",
    "            IsWeekOrNot=int(i[1].size)/7\n",
    "            if IsWeekOrNot>=5:\n",
    "                Open=i[1].loc[:,'open'].values.tolist()[0]\n",
    "                #print(\"Open\",Open)\n",
    "                Close=i[1].loc[:,Type].values.tolist()[len(i[1].loc[:,Type].values.tolist())-1]\n",
    "                #print(Type,Close)\n",
    "                train_y.append(float(Close-Open))\n",
    "                count+=1\n",
    "            else:\n",
    "                continue\n",
    "        elif count>=n:\n",
    "            break\n",
    "    print(\"\\n\",train_y,\"Train_y.size:  \",len(train_y))\n",
    "    \n",
    "for path in glob.glob(r'./StockData/*.csv'):\n",
    "    CsvData=pd.DataFrame(pd.read_csv(path))#After Reading csv put it in the dataframe\n",
    "    outputData=open('./StockData/TrainingData/'+path[12:21]+'TrainingData.csv','w',newline=\"\")\n",
    "    CsvData['date']=pd.to_datetime(CsvData['date'])#將date column 原本的datatype(object) 轉成 datetime64\n",
    "    CsvData[\"week\"]=0\n",
    "    for i,j in zip(CsvData[\"date\"],range(CsvData[\"date\"].size)):\n",
    "        CsvData[\"week\"][j]= i.isocalendar()[2]\n",
    "    TimeData=CsvData.set_index('date').resample('w')\n",
    "    GenerateTrainX(10,1,0,0,0,1,0)\n",
    "    GenerateTrainY(10,1)\n",
    "    writer=csv.writer(outputData)#寫入 csv\n",
    "    writer.writerow(train_x)\n",
    "    writer.writerow(train_y)\n",
    "    outputData.close()\n",
    "    train_x.clear()\n",
    "    train_y.clear()"
   ]
  },
  {
   "cell_type": "markdown",
   "metadata": {},
   "source": [
    "## "
   ]
  },
  {
   "cell_type": "code",
   "execution_count": null,
   "metadata": {},
   "outputs": [],
   "source": []
  }
 ],
 "metadata": {
  "kernelspec": {
   "display_name": "Python 3",
   "language": "python",
   "name": "python3"
  },
  "language_info": {
   "codemirror_mode": {
    "name": "ipython",
    "version": 3
   },
   "file_extension": ".py",
   "mimetype": "text/x-python",
   "name": "python",
   "nbconvert_exporter": "python",
   "pygments_lexer": "ipython3",
   "version": "3.6.9"
  }
 },
 "nbformat": 4,
 "nbformat_minor": 2
}
