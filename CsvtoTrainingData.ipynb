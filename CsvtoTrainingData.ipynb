{
 "cells": [
  {
   "cell_type": "code",
   "execution_count": 8,
   "metadata": {},
   "outputs": [
    {
     "name": "stdout",
     "output_type": "stream",
     "text": [
      "Enter the needed features seperated with space: close open volume low high\n",
      "Enter the close type: close\n",
      "Enter the desired  data span , d  for day  w  for week  m  for month: w\n",
      "(503, 5, 5)\n",
      "stock0050 trainx (2515, 5)\n",
      "(168, 5, 5)\n",
      "stock0050 testx (840, 5)\n",
      "stock0050 trainy (503,)\n",
      "stock0050 testy (168,)\n"
     ]
    }
   ],
   "source": [
    "import datetime#import datetime module convert data to datetime64(ns)\n",
    "import numpy as np\n",
    "import pandas as pd#import pandas module(Better than csv module!)\n",
    "import os\n",
    "import glob\n",
    "from sklearn.model_selection import train_test_split\n",
    "global train_x , train_y,x_test,y_test,TimeData,Type\n",
    "train_x=[]\n",
    "train_y=[]\n",
    "x_test=[]\n",
    "y_test=[]\n",
    "\n",
    "def Resha(x):\n",
    "    nptrain=np.array(x)\n",
    "    print(nptrain.shape)\n",
    "    nptrain=np.reshape(nptrain,(nptrain.shape[0]*nptrain.shape[1], nptrain.shape[2]))\n",
    "    #print(nptrain)\n",
    "    return nptrain\n",
    "\n",
    "def Savenp(x,y):\n",
    "    \n",
    "    train_x,x_test,train_y,y_test = train_test_split(x,y,test_size=0.25,random_state=42)\n",
    "    \n",
    "    nptrain=Resha(train_x)\n",
    "    np.save(os.path.join('./StockData/TrainingData/','NormtrainingX_'+path[12:21]),nptrain)\n",
    "    print(path[12:21],\"trainx\",nptrain.shape)\n",
    "    \n",
    "    nptrain=Resha(x_test)\n",
    "    np.save(os.path.join('./StockData/TrainingData/','NormtestingX_'+path[12:21]),nptrain)\n",
    "    print(path[12:21],\"testx\",nptrain.shape)\n",
    "    \n",
    "    nptrain=np.array(train_y)\n",
    "    np.save(os.path.join('./StockData/TrainingData/','trainingY_'+path[12:21]),nptrain)\n",
    "    print(path[12:21],\"trainy\",nptrain.shape)\n",
    "    \n",
    "    nptrain=np.array(y_test)\n",
    "    np.save(os.path.join('./StockData/TrainingData/','testingY_'+path[12:21]),nptrain)\n",
    "    print(path[12:21],\"testy\",nptrain.shape)\n",
    "\n",
    "#def add_features()\n",
    "    \n",
    "def GenerateTrain(Type,feature):\n",
    "    for tmp in TimeData:#print(tmp[1])\n",
    "        i=tmp[1].dropna()\n",
    "        i=i.apply(lambda x: (x - np.mean(x)) / (np.max(x) - np.min(x)))\n",
    "        #print(i)\n",
    "        if len(i)==5: #Decide the way seperate the stock data\n",
    "            train_x.append(i.loc[ : ,feature].values.tolist())\n",
    "            Open=i.loc[ : ,'open'].values.tolist()[0]\n",
    "            Close=i.loc[ : ,Type].values.tolist()[len(i.loc[ : ,Type].values.tolist())-1]\n",
    "            train_y.append(float(Close-Open))\n",
    "        else:\n",
    "            continue\n",
    "    Savenp(train_x,train_y)\n",
    "\n",
    "feature=input(\"Enter the needed features seperated with space: \").split(\" \")\n",
    "closeType=input(\"Enter the close type: \")\n",
    "resam=input(\"Enter the desired  data span , d  for day  w  for week  m  for month: \")\n",
    "#span=int(input(\"Enter the span of trainx trainy: \"))\n",
    "\n",
    "for path in glob.glob(r'./StockData/stock0050.csv'):\n",
    "    CsvData=pd.DataFrame(pd.read_csv(path))\n",
    "    CsvData['date']=pd.to_datetime(CsvData['date'])\n",
    "    CsvData=CsvData.drop([0],axis=0)#drop 第一天 因為stockdata 有16年跳到17年的問題\n",
    "   #print(CsvData)\n",
    "    #CsvData = add_features(CsvData)\n",
    "    TimeData=CsvData.set_index('date').resample(resam)\n",
    "    GenerateTrain(closeType,feature)\n",
    "    train_x.clear()\n",
    "    train_y.clear()\n",
    "    '''CsvData[\"week\"]=0 #Csvdata type dataframe\n",
    "    for i,j in zip(CsvData[\"date\"],range(CsvData[\"date\"].size)):\n",
    "        CsvData.loc[j:j+1,\"week\"]=i.isocalendar()[2]'''"
   ]
  },
  {
   "cell_type": "code",
   "execution_count": null,
   "metadata": {},
   "outputs": [],
   "source": []
  }
 ],
 "metadata": {
  "kernelspec": {
   "display_name": "Python 3",
   "language": "python",
   "name": "python3"
  },
  "language_info": {
   "codemirror_mode": {
    "name": "ipython",
    "version": 3
   },
   "file_extension": ".py",
   "mimetype": "text/x-python",
   "name": "python",
   "nbconvert_exporter": "python",
   "pygments_lexer": "ipython3",
   "version": "3.6.9"
  }
 },
 "nbformat": 4,
 "nbformat_minor": 2
}
