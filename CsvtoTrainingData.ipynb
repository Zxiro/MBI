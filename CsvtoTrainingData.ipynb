{
 "cells": [
  {
   "cell_type": "code",
   "execution_count": 13,
   "metadata": {},
   "outputs": [
    {
     "name": "stderr",
     "output_type": "stream",
     "text": [
      "/usr/local/lib/python3.6/dist-packages/ipykernel_launcher.py:45: SettingWithCopyWarning: \n",
      "A value is trying to be set on a copy of a slice from a DataFrame\n",
      "\n",
      "See the caveats in the documentation: http://pandas.pydata.org/pandas-docs/stable/user_guide/indexing.html#returning-a-view-versus-a-copy\n"
     ]
    },
    {
     "name": "stdout",
     "output_type": "stream",
     "text": [
      "(670, 5, 5)\n",
      "(670,)\n",
      "(670, 5, 5)\n",
      "(670,)\n"
     ]
    }
   ],
   "source": [
    "import datetime#import datetime module convert data to datetime64(ns)\n",
    "import numpy as np\n",
    "import pandas as pd#import pandas module(Better than csv module!)\n",
    "import os\n",
    "import glob\n",
    "\n",
    "global train_x , train_y,train_c,TimeData,Type,Feature\n",
    "train_x=[]\n",
    "train_y=[]\n",
    "Features=np.array(['adj_close','close','high','low','open','volume'])#All the var for the model\n",
    "\n",
    "def GenerateTrain(t,a,c,h,l,o,v):#n for numbers /a for adj_close /o for open /h for high /l for low /c for close /v for volume\n",
    "    fliter=np.array([bool(a),bool(c),bool(h),bool(l),bool(o),bool(v)])\n",
    "    Choice=Features[fliter]#type(Choice)=nparray\n",
    "    if t==0:\n",
    "        Type='close'\n",
    "    elif t==1:\n",
    "        Type='adj_close'\n",
    "    for i in TimeData:\n",
    "            #print(i[1])#print(type(i[1]))#print(len(i[1]))\n",
    "            IsWeekOrNot=int(i[1].size)/7\n",
    "            if IsWeekOrNot==5:\n",
    "                result=i[1].loc[ : ,Choice].values.tolist() #print(np.shape(result))\n",
    "                train_x.append(i[1].loc[ : ,Choice].values.tolist())#print(np.shape(train_x))\n",
    "                Open=i[1].loc[:,'open'].values.tolist()[0]\n",
    "                Close=i[1].loc[:,Type].values.tolist()[len(i[1].loc[:,Type].values.tolist())-1]\n",
    "                train_y.append(float(Close-Open))\n",
    "            else:\n",
    "                continue\n",
    "    nptrain=np.array(train_x)\n",
    "    np.save(os.path.join('./StockData/TrainingData/','trainingX_'+path[12:21]),nptrain)\n",
    "    print(nptrain.shape)\n",
    "    nptrain=np.array(train_y)\n",
    "    np.save(os.path.join('./StockData/TrainingData/','trainingY_'+path[12:21]),nptrain)\n",
    "    print(nptrain.shape)\n",
    "\n",
    "def SaveTrain(t):\n",
    "    \n",
    "for path in glob.glob(r'./StockData/*.csv'):\n",
    "    CsvData=pd.DataFrame(pd.read_csv(path))#After Reading csv put it in the dataframe\n",
    "    CsvData['date']=pd.to_datetime(CsvData['date'])#將date column 原本的datatype(object) 轉成 datetime64\n",
    "    CsvData[\"week\"]=0\n",
    "    for i,j in zip(CsvData[\"date\"],range(CsvData[\"date\"].size)):\n",
    "        CsvData[\"week\"][j]= i.isocalendar()[2]\n",
    "    TimeData=CsvData.set_index('date').resample('w')\n",
    "    GenerateTrain(1,1,1,1,1,1,0)\n",
    "    train_x.clear()\n",
    "    train_y.clear()"
   ]
  },
  {
   "cell_type": "markdown",
   "metadata": {},
   "source": [
    "## "
   ]
  },
  {
   "cell_type": "code",
   "execution_count": null,
   "metadata": {},
   "outputs": [],
   "source": []
  }
 ],
 "metadata": {
  "kernelspec": {
   "display_name": "Python 3",
   "language": "python",
   "name": "python3"
  },
  "language_info": {
   "codemirror_mode": {
    "name": "ipython",
    "version": 3
   },
   "file_extension": ".py",
   "mimetype": "text/x-python",
   "name": "python",
   "nbconvert_exporter": "python",
   "pygments_lexer": "ipython3",
   "version": "3.6.9"
  }
 },
 "nbformat": 4,
 "nbformat_minor": 2
}
