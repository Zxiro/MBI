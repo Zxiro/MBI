{
 "cells": [
  {
   "cell_type": "code",
   "execution_count": null,
   "metadata": {},
   "outputs": [],
   "source": [
    "import datetime#import datetime module convert data to datetime64(ns)\n",
    "import numpy as np\n",
    "import pandas as pd#import pandas module(Better than csv module!)\n",
    "import os\n",
    "import glob\n",
    "\n",
    "global train_x , train_y,TimeData,Type\n",
    "train_x=[]\n",
    "train_y=[]\n",
    "    \n",
    "def Savenp(x,y):\n",
    "    nptrain=np.array(x)#nptrain = train_norm(nptrain)\n",
    "    np.save(os.path.join('./StockData/TrainingData/','trainingX_'+path[12:21]),nptrain)\n",
    "    print(path[12:21],nptrain.shape)\n",
    "    nptrain=np.array(y)\n",
    "    np.save(os.path.join('./StockData/TrainingData/','trainingY_'+path[12:21]),nptrain)\n",
    "    print(path[12:21],nptrain.shape)\n",
    "\n",
    "    \n",
    "def GenerateTrain(Type,feature,span):\n",
    "    s=0\n",
    "    for tmp in TimeData:#print(tmp[1])\n",
    "        i=tmp[1].dropna()\n",
    "        #print(i)\n",
    "        if len(i)==5: #Decide the way seperate the stock data\n",
    "            train_x.append(i.loc[ : ,feature].values.tolist())\n",
    "            Open=i.loc[ : ,'open'].values.tolist()[0]\n",
    "            Close=i.loc[ : ,Type].values.tolist()[len(i.loc[ : ,Type].values.tolist())-1]\n",
    "            train_y.append(float(Close-Open))\n",
    "            if s<span:  \n",
    "                s+=1#print(\"span\",s)\n",
    "            elif s==span:\n",
    "                s=0#print(\"close\",s)\n",
    "        else:\n",
    "            continue\n",
    "    Savenp(train_x,train_y)\n",
    "\n",
    "feature=input(\"Enter the needed features seperated with space: \").split(\" \")\n",
    "closeType=input(\"Enter the close type: \")\n",
    "resam=input(\"Enter the desired  data span , d  for day  w  for week  m  for month: \")\n",
    "span=int(input(\"Enter the span of trainx trainy: \"))\n",
    "\n",
    "for path in glob.glob(r'./StockData/stock0050.csv'):\n",
    "    CsvData=pd.DataFrame(pd.read_csv(path))\n",
    "    CsvData['date']=pd.to_datetime(CsvData['date'])\n",
    "    '''CsvData[\"week\"]=0 #Csvdata type dataframe\n",
    "    for i,j in zip(CsvData[\"date\"],range(CsvData[\"date\"].size)):\n",
    "        CsvData.loc[j:j+1,\"week\"]=i.isocalendar()[2]'''\n",
    "    CsvData=CsvData.drop([0],axis=0)#drop 第一天 因為stockdata 有16年跳到17年的問題\n",
    "    print(CsvData)\n",
    "    TimeData=CsvData.set_index('date').resample(resam)\n",
    "    GenerateTrain(closeType,feature,span)\n",
    "    train_x.clear()\n",
    "    train_y.clear()"
   ]
  },
  {
   "cell_type": "code",
   "execution_count": null,
   "metadata": {},
   "outputs": [],
   "source": []
  },
  {
   "cell_type": "code",
   "execution_count": null,
   "metadata": {},
   "outputs": [],
   "source": []
  }
 ],
 "metadata": {
  "kernelspec": {
   "display_name": "Python 3",
   "language": "python",
   "name": "python3"
  },
  "language_info": {
   "codemirror_mode": {
    "name": "ipython",
    "version": 3
   },
   "file_extension": ".py",
   "mimetype": "text/x-python",
   "name": "python",
   "nbconvert_exporter": "python",
   "pygments_lexer": "ipython3",
   "version": "3.6.9"
  }
 },
 "nbformat": 4,
 "nbformat_minor": 2
}
