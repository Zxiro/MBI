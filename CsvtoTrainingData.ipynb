{
 "cells": [
  {
   "cell_type": "code",
   "execution_count": 27,
   "metadata": {},
   "outputs": [
    {
     "name": "stdout",
     "output_type": "stream",
     "text": [
      "./StockData/stock1101.csv\n",
      "stock1101\n"
     ]
    },
    {
     "name": "stderr",
     "output_type": "stream",
     "text": [
      "/usr/local/lib/python3.6/dist-packages/ipykernel_launcher.py:45: SettingWithCopyWarning: \n",
      "A value is trying to be set on a copy of a slice from a DataFrame\n",
      "\n",
      "See the caveats in the documentation: http://pandas.pydata.org/pandas-docs/stable/user_guide/indexing.html#returning-a-view-versus-a-copy\n"
     ]
    },
    {
     "name": "stdout",
     "output_type": "stream",
     "text": [
      "\n",
      " Train_x.size:   250\n",
      "\n",
      " Train_y.size:   250\n",
      "\n",
      " Train_adjy.size:   250\n",
      "./StockData/stock0050.csv\n",
      "stock0050\n",
      "\n",
      " Train_x.size:   250\n",
      "\n",
      " Train_y.size:   250\n",
      "\n",
      " Train_adjy.size:   250\n"
     ]
    }
   ],
   "source": [
    "import json \n",
    "import csv\n",
    "import datetime#import datetime module convert data to datetime64(ns)\n",
    "import numpy as np\n",
    "import pandas as pd#import pandas module(Better than csv module!)\n",
    "import os\n",
    "import glob\n",
    "\n",
    "global train_x , train_y,train_adjy\n",
    "train_x=[]\n",
    "train_y=[]\n",
    "train_adjy=[]\n",
    "def GenerateTrainD(n,a,c,h,l,o,v):#n for numbers /d for days /o for open /h for high /l for low /c for close /v for volume\n",
    "    fliter=np.array([bool(a),bool(c),bool(h),bool(l),bool(o),bool(v)])\n",
    "    Choice=Features[fliter]#type(Choice)=nparray\n",
    "    count=0\n",
    "    TimeData=CsvData.set_index('date').resample('w')\n",
    "    for i in TimeData:\n",
    "        if count<n:\n",
    "            #print(i[1])\n",
    "            IsWeekOrNot=int(i[1].size)/7\n",
    "            if IsWeekOrNot>=5:\n",
    "                #print(i[1].loc[ : ,'close'].values.tolist())\n",
    "                train_x.append(i[1].loc[ : ,Choice].values.tolist())\n",
    "                train_y.append(i[1].loc[ : ,'close'].values.tolist())\n",
    "                train_adjy.append(i[1].loc[ : ,'adj_close'].values.tolist())\n",
    "                count+=1\n",
    "            else:\n",
    "                continue\n",
    "        elif count>=n:\n",
    "            break\n",
    "    print(\"\\n\",\"Train_x.size:  \",len(train_x))\n",
    "    print(\"\\n\",\"Train_y.size:  \",len(train_y))\n",
    "    print(\"\\n\",\"Train_adjy.size:  \",len(train_adjy))\n",
    "\n",
    "for path in glob.glob(r'./StockData/*.csv'):\n",
    "    print(path)\n",
    "    CsvData=pd.DataFrame(pd.read_csv(path))#After Reading csv put it in the dataframe\n",
    "    outputData=open('./StockData/TrainingData/'+path[12:21]+'TrainingData','w',newline=\"\")\n",
    "    print(path[12:21])\n",
    "    Features=np.array(['adj_close','close','high','low','open','volume'])#All the var for the model\n",
    "    CsvData['date']=pd.to_datetime(CsvData['date'])#將date column 原本的datatype(object) 轉成 datetime64\n",
    "    CsvData[\"week\"]=0\n",
    "    for i,j in zip(CsvData[\"date\"],range(CsvData[\"date\"].size)):\n",
    "        CsvData[\"week\"][j]= i.isocalendar()[2]\n",
    "    GenerateTrainD(250,1,1,1,1,0,0)\n",
    "    writer=csv.writer(outputData)#寫入 csv\n",
    "    writer.writerow(train_x)\n",
    "    writer.writerow(train_y)\n",
    "    writer.writerow(train_adjy)\n",
    "    outputData.close()\n",
    "    train_x.clear()\n",
    "    train_adjy.clear()\n",
    "    train_y.clear()"
   ]
  },
  {
   "cell_type": "markdown",
   "metadata": {},
   "source": [
    "## "
   ]
  },
  {
   "cell_type": "code",
   "execution_count": null,
   "metadata": {},
   "outputs": [],
   "source": []
  }
 ],
 "metadata": {
  "kernelspec": {
   "display_name": "Python 3",
   "language": "python",
   "name": "python3"
  },
  "language_info": {
   "codemirror_mode": {
    "name": "ipython",
    "version": 3
   },
   "file_extension": ".py",
   "mimetype": "text/x-python",
   "name": "python",
   "nbconvert_exporter": "python",
   "pygments_lexer": "ipython3",
   "version": "3.6.9"
  }
 },
 "nbformat": 4,
 "nbformat_minor": 2
}
