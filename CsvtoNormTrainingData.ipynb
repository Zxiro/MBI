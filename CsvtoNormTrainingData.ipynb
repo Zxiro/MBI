{
 "cells": [
  {
   "cell_type": "code",
   "execution_count": 1,
   "metadata": {},
   "outputs": [
    {
     "name": "stderr",
     "output_type": "stream",
     "text": [
      "/usr/local/lib/python3.6/dist-packages/ipykernel_launcher.py:48: SettingWithCopyWarning: \n",
      "A value is trying to be set on a copy of a slice from a DataFrame\n",
      "\n",
      "See the caveats in the documentation: http://pandas.pydata.org/pandas-docs/stable/user_guide/indexing.html#returning-a-view-versus-a-copy\n"
     ]
    },
    {
     "name": "stdout",
     "output_type": "stream",
     "text": [
      "           date  adj_close  close   high    low   open   volume  week\n",
      "1    2004-02-12      48.54  48.59  49.26  48.40  48.50  8114000     4\n",
      "2    2004-02-13      49.41  49.46  49.47  48.60  48.61  6138000     5\n",
      "3    2004-02-16      49.17  49.20  49.46  49.04  49.46  4154000     1\n",
      "4    2004-02-17      49.40  49.50  49.50  49.16  49.21  4645000     2\n",
      "5    2004-02-18      49.53  49.53  49.70  49.32  49.55  4018000     3\n",
      "...         ...        ...    ...    ...    ...    ...      ...   ...\n",
      "3912 2019-12-05      92.85  92.90  93.00  92.20  92.35  3441050     4\n",
      "3913 2019-12-06      92.95  93.05  93.50  92.75  93.30  3394433     5\n",
      "3914 2019-12-09      93.60  93.65  93.80  93.20  93.20  2912194     1\n",
      "3915 2019-12-10      93.00  93.00  93.40  92.80  93.40  5465431     2\n",
      "3916 2019-12-11      93.75  93.75  93.75  92.95  93.00  1936772     3\n",
      "\n",
      "[3916 rows x 8 columns]\n",
      "           date  adj_close  close   high    low   open   volume  week\n",
      "1    2004-02-12      48.54  48.59  49.26  48.40  48.50  8114000     4\n",
      "2    2004-02-13      49.41  49.46  49.47  48.60  48.61  6138000     5\n",
      "3    2004-02-16      49.17  49.20  49.46  49.04  49.46  4154000     1\n",
      "4    2004-02-17      49.40  49.50  49.50  49.16  49.21  4645000     2\n",
      "5    2004-02-18      49.53  49.53  49.70  49.32  49.55  4018000     3\n",
      "...         ...        ...    ...    ...    ...    ...      ...   ...\n",
      "3912 2019-12-05      92.85  92.90  93.00  92.20  92.35  3441050     4\n",
      "3913 2019-12-06      92.95  93.05  93.50  92.75  93.30  3394433     5\n",
      "3914 2019-12-09      93.60  93.65  93.80  93.20  93.20  2912194     1\n",
      "3915 2019-12-10      93.00  93.00  93.40  92.80  93.40  5465431     2\n",
      "3916 2019-12-11      93.75  93.75  93.75  92.95  93.00  1936772     3\n",
      "\n",
      "[3916 rows x 8 columns]\n",
      "[[-0.80550659 -0.85646934 -0.86352841 ... -0.8175432  -0.79279293\n",
      "  -0.79544707]\n",
      " [-0.77582504 -0.82783881 -0.82045327 ... -0.7737209  -0.76892716\n",
      "  -0.79544707]\n",
      " [-0.59393042 -0.63776396 -0.66091574 ... -0.52672251 -0.57004574\n",
      "  -0.51708789]\n",
      " ...\n",
      " [ 2.51882691  2.61895792  2.60162684 ...  2.58466052  2.6041018\n",
      "   2.58860527]\n",
      " [ 2.49599495  2.59509915  2.61758059 ...  2.59262821  2.52852686\n",
      "   2.61246463]\n",
      " [ 2.45413635  2.55135807  2.54180026 ...  2.6444182   2.6319452\n",
      "   2.64825367]]\n",
      "stock0050 (671, 25)\n",
      "stock0050 (671,)\n"
     ]
    }
   ],
   "source": [
    "import datetime#import datetime module convert data to datetime64(ns)\n",
    "import numpy as np\n",
    "import pandas as pd#import pandas module(Better than csv module!)\n",
    "import os\n",
    "import glob\n",
    "from sklearn import preprocessing \n",
    "\n",
    "global train_x , train_y,train_c,TimeData,Type,Feature\n",
    "train_x=[]\n",
    "train_y=[]\n",
    "Features=np.array(['adj_close','close','high','low','open','volume'])#All the var for the model\n",
    "\n",
    "def GenerateTrain(t,a,c,h,l,o,v):#n for numbers /a for adj_close /o for open /h for high /l for low /c for close /v for volume\n",
    "    fliter=np.array([bool(a),bool(c),bool(h),bool(l),bool(o),bool(v)])\n",
    "    Choice=Features[fliter]#type(Choice)=nparray\n",
    "    if t==0:\n",
    "        Type='close'\n",
    "    elif t==1:\n",
    "        Type='adj_close'\n",
    "    for i in TimeData:\n",
    "            #print(i[1])#print(type(i[1]))#print(len(i[1]))\n",
    "            IsWeekOrNot=int(i[1].size)/7\n",
    "            if IsWeekOrNot==5:\n",
    "                result=i[1].loc[ : ,Choice].values.tolist() #print(np.shape(result))\n",
    "                train_x.append(i[1].loc[ : ,Choice].values.tolist())#print(np.shape(train_x))\n",
    "                Open=i[1].loc[:,'open'].values.tolist()[0]\n",
    "                Close=i[1].loc[:,Type].values.tolist()[len(i[1].loc[:,Type].values.tolist())-1]\n",
    "                train_y.append(float(Close-Open))\n",
    "            else:\n",
    "                continue\n",
    "    nptrain=np.array(train_x)\n",
    "    nptrain=np.reshape(nptrain,(671,25))\n",
    "    nptrain=preprocessing.scale(nptrain)\n",
    "    print(nptrain)\n",
    "    exit()\n",
    "    np.save(os.path.join('./StockData/TrainingData/','NormtrainingX_'+path[12:21]),nptrain)\n",
    "    print(path[12:21],nptrain.shape)\n",
    "    nptrain=np.array(train_y)\n",
    "    np.save(os.path.join('./StockData/TrainingData/','trainingY_'+path[12:21]),nptrain)\n",
    "    print(path[12:21],nptrain.shape)\n",
    "\n",
    "    \n",
    "for path in glob.glob(r'./StockData/stock0050.csv'):\n",
    "    CsvData=pd.DataFrame(pd.read_csv(path))#After Reading csv put it in the dataframe\n",
    "    CsvData['date']=pd.to_datetime(CsvData['date'])#將date column 原本的datatype(object) 轉成 datetime64\n",
    "    CsvData[\"week\"]=0\n",
    "    for i,j in zip(CsvData[\"date\"],range(CsvData[\"date\"].size)):\n",
    "        CsvData[\"week\"][j]= i.isocalendar()[2]\n",
    "    CsvData=CsvData.drop([0],axis=0)\n",
    "    print(CsvData)\n",
    "    CsvData=CsvData.dropna()\n",
    "    print(CsvData)\n",
    "    TimeData=CsvData.set_index('date').resample('w')\n",
    "    GenerateTrain(1,1,1,1,1,1,0)\n",
    "    train_x.clear()\n",
    "    train_y.clear()"
   ]
  },
  {
   "cell_type": "code",
   "execution_count": null,
   "metadata": {},
   "outputs": [],
   "source": []
  },
  {
   "cell_type": "code",
   "execution_count": null,
   "metadata": {},
   "outputs": [],
   "source": []
  },
  {
   "cell_type": "code",
   "execution_count": null,
   "metadata": {},
   "outputs": [],
   "source": []
  },
  {
   "cell_type": "code",
   "execution_count": null,
   "metadata": {},
   "outputs": [],
   "source": []
  }
 ],
 "metadata": {
  "kernelspec": {
   "display_name": "Python 3",
   "language": "python",
   "name": "python3"
  },
  "language_info": {
   "codemirror_mode": {
    "name": "ipython",
    "version": 3
   },
   "file_extension": ".py",
   "mimetype": "text/x-python",
   "name": "python",
   "nbconvert_exporter": "python",
   "pygments_lexer": "ipython3",
   "version": "3.6.9"
  }
 },
 "nbformat": 4,
 "nbformat_minor": 2
}
